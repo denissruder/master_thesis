{
 "cells": [
  {
   "cell_type": "code",
   "execution_count": 1,
   "metadata": {},
   "outputs": [],
   "source": [
    "import pandas as pd\n",
    "import re"
   ]
  },
  {
   "cell_type": "code",
   "execution_count": 18,
   "metadata": {
    "scrolled": true
   },
   "outputs": [
    {
     "name": "stdout",
     "output_type": "stream",
     "text": [
      "<class 'pandas.core.frame.DataFrame'>\n",
      "RangeIndex: 491405 entries, 0 to 491404\n",
      "Data columns (total 2 columns):\n",
      "description_text     491405 non-null object\n",
      "harmonized_number    491405 non-null object\n",
      "dtypes: object(2)\n",
      "memory usage: 7.5+ MB\n"
     ]
    }
   ],
   "source": [
    "desc18 = pd.read_csv('ams_2018_202001290000_ams__cargodesc_2018__202001290000.csv',low_memory=False)\n",
    "hs18 = pd.read_csv('ams_2018_202001290000_ams__tariff_2018__202001290000.csv',low_memory=False)\n",
    "\n",
    "#inner join\n",
    "df = desc18.merge(hs18, how='inner', left_on=[\"description_sequence_number\",\"identifier\", \"container_number\"], right_on=[\"description_sequence_number\",\"identifier\",\"container_number\"])\n",
    "\n",
    "#drop unnecessary columns\n",
    "df = df.drop('identifier', axis=1)\n",
    "df = df.drop('container_number', axis=1)\n",
    "df = df.drop('description_sequence_number', axis=1)\n",
    "df = df.drop('piece_count', axis=1)\n",
    "df = df.drop('harmonized_value', axis=1)\n",
    "df = df.drop('harmonized_weight', axis=1)\n",
    "df = df.drop('harmonized_weight_unit', axis=1)\n",
    "\n",
    "#drop the duplicates\n",
    "df = df.drop_duplicates()\n",
    "\n",
    "#drop missing values\n",
    "df = df.dropna()\n",
    "\n",
    "df['harmonized_number'] = df['harmonized_number'].apply(lambda x: x.replace(' ',''))\n",
    "\n",
    "#remove corrupted HS codes\n",
    "df['harmonized_number'].apply(lambda x: re.sub('[^0-9]','',x))\n",
    "\n",
    "#drop HS-2 and HS-4\n",
    "mask = (df['harmonized_number'].str.len() >= 6)\n",
    "df = df.loc[mask]\n",
    "\n",
    "#convert HTS to HS-6\n",
    "df['harmonized_number'] = df['harmonized_number'].apply(lambda x: x[:6])\n",
    "\n",
    "#drop first entries\n",
    "df.drop_duplicates(subset =\"description_text\", \n",
    "                     keep = 'first', inplace = True)\n",
    "\n",
    "df = df.reset_index()\n",
    "df = df.drop(['index'],axis=1)\n",
    "\n",
    "df.info()\n",
    "df.to_csv('2018.csv', index=False)\n"
   ]
  },
  {
   "cell_type": "code",
   "execution_count": 8,
   "metadata": {},
   "outputs": [
    {
     "name": "stdout",
     "output_type": "stream",
     "text": [
      "<class 'pandas.core.frame.DataFrame'>\n",
      "RangeIndex: 1293762 entries, 0 to 1293761\n",
      "Data columns (total 2 columns):\n",
      "description_text     1293762 non-null object\n",
      "harmonized_number    1293762 non-null object\n",
      "dtypes: object(2)\n",
      "memory usage: 19.7+ MB\n"
     ]
    },
    {
     "data": {
      "text/html": [
       "<div>\n",
       "<style scoped>\n",
       "    .dataframe tbody tr th:only-of-type {\n",
       "        vertical-align: middle;\n",
       "    }\n",
       "\n",
       "    .dataframe tbody tr th {\n",
       "        vertical-align: top;\n",
       "    }\n",
       "\n",
       "    .dataframe thead th {\n",
       "        text-align: right;\n",
       "    }\n",
       "</style>\n",
       "<table border=\"1\" class=\"dataframe\">\n",
       "  <thead>\n",
       "    <tr style=\"text-align: right;\">\n",
       "      <th></th>\n",
       "      <th>description_text</th>\n",
       "      <th>harmonized_number</th>\n",
       "    </tr>\n",
       "  </thead>\n",
       "  <tbody>\n",
       "    <tr>\n",
       "      <td>0</td>\n",
       "      <td>WOODWORKING MACHINE AND SPARE PARTS H.S.CODE 8...</td>\n",
       "      <td>846591</td>\n",
       "    </tr>\n",
       "    <tr>\n",
       "      <td>1</td>\n",
       "      <td>WOODWORKING MACHINE AND SPARE PARTS PO NO. 751...</td>\n",
       "      <td>846591</td>\n",
       "    </tr>\n",
       "    <tr>\n",
       "      <td>2</td>\n",
       "      <td>STAND, ZERO CLEARANCE THROAT PLATE, GLIDE PAD)...</td>\n",
       "      <td>846591</td>\n",
       "    </tr>\n",
       "    <tr>\n",
       "      <td>3</td>\n",
       "      <td>. . . . . . . .</td>\n",
       "      <td>846591</td>\n",
       "    </tr>\n",
       "    <tr>\n",
       "      <td>4</td>\n",
       "      <td>. . . . . .</td>\n",
       "      <td>846591</td>\n",
       "    </tr>\n",
       "  </tbody>\n",
       "</table>\n",
       "</div>"
      ],
      "text/plain": [
       "                                    description_text harmonized_number\n",
       "0  WOODWORKING MACHINE AND SPARE PARTS H.S.CODE 8...            846591\n",
       "1  WOODWORKING MACHINE AND SPARE PARTS PO NO. 751...            846591\n",
       "2  STAND, ZERO CLEARANCE THROAT PLATE, GLIDE PAD)...            846591\n",
       "3                                    . . . . . . . .            846591\n",
       "4                                        . . . . . .            846591"
      ]
     },
     "execution_count": 8,
     "metadata": {},
     "output_type": "execute_result"
    }
   ],
   "source": [
    "#merge tables for different years\n",
    "df1 = pd.read_csv('2018.csv',low_memory=False)\n",
    "df2 = pd.read_csv('2019.csv',low_memory=False)\n",
    "df3 = pd.read_csv('2020.csv',low_memory=False)\n",
    "\n",
    "df = [df1,df2,df3]\n",
    "df = pd.concat(df)\n",
    "\n",
    "df = df.reset_index()\n",
    "df = df.drop(['index'],axis=1)\n",
    "\n",
    "df.to_csv('2018-2020.csv', index=False)\n",
    "\n",
    "df.info()\n",
    "df.head(10)"
   ]
  },
  {
   "cell_type": "code",
   "execution_count": 12,
   "metadata": {},
   "outputs": [],
   "source": [
    "df = df.reset_index()\n",
    "df = df.drop(['index'],axis=1)\n",
    "\n",
    "df.to_csv('2018-2020.csv', index=False)"
   ]
  }
 ],
 "metadata": {
  "kernelspec": {
   "display_name": "Python 3",
   "language": "python",
   "name": "python3"
  },
  "language_info": {
   "codemirror_mode": {
    "name": "ipython",
    "version": 3
   },
   "file_extension": ".py",
   "mimetype": "text/x-python",
   "name": "python",
   "nbconvert_exporter": "python",
   "pygments_lexer": "ipython3",
   "version": "3.7.4"
  }
 },
 "nbformat": 4,
 "nbformat_minor": 2
}
